{
 "cells": [
  {
   "cell_type": "markdown",
   "metadata": {},
   "source": [
    "## Detect missing values"
   ]
  },
  {
   "cell_type": "code",
   "execution_count": 2,
   "metadata": {},
   "outputs": [
    {
     "ename": "NameError",
     "evalue": "name 'X_train' is not defined",
     "output_type": "error",
     "traceback": [
      "\u001b[1;31m---------------------------------------------------------------------------\u001b[0m",
      "\u001b[1;31mNameError\u001b[0m                                 Traceback (most recent call last)",
      "\u001b[1;32m<ipython-input-2-9ae419466f8b>\u001b[0m in \u001b[0;36m<module>\u001b[1;34m\u001b[0m\n\u001b[1;32m----> 1\u001b[1;33m \u001b[0mamount_missing_values_in_table\u001b[0m \u001b[1;33m=\u001b[0m \u001b[1;33m(\u001b[0m\u001b[0mX_train\u001b[0m\u001b[1;33m.\u001b[0m\u001b[0misnull\u001b[0m\u001b[1;33m(\u001b[0m\u001b[1;33m)\u001b[0m\u001b[1;33m.\u001b[0m\u001b[0msum\u001b[0m\u001b[1;33m(\u001b[0m\u001b[1;33m)\u001b[0m\u001b[1;33m)\u001b[0m\u001b[1;33m\u001b[0m\u001b[1;33m\u001b[0m\u001b[0m\n\u001b[0m\u001b[0;32m      2\u001b[0m \u001b[1;33m\u001b[0m\u001b[0m\n\u001b[0;32m      3\u001b[0m \u001b[1;31m# finding column names with missing values\u001b[0m\u001b[1;33m\u001b[0m\u001b[1;33m\u001b[0m\u001b[1;33m\u001b[0m\u001b[0m\n\u001b[0;32m      4\u001b[0m NaN_columns =[i for i in X_train.columns\n\u001b[0;32m      5\u001b[0m              if X_train[i].isnull().any()]\n",
      "\u001b[1;31mNameError\u001b[0m: name 'X_train' is not defined"
     ]
    }
   ],
   "source": [
    "amount_missing_values_in_table = (X_train.isnull().sum())\n",
    "\n",
    "# finding column names with missing values\n",
    "NaN_columns =[i for i in X_train.columns\n",
    "             if X_train[i].isnull().any()]\n",
    "NaN_rows = [i for i in range(X_test.index[0],X_test.index[-1])\n",
    "            if X_test.loc[i].isnull().any()]"
   ]
  },
  {
   "cell_type": "markdown",
   "metadata": {},
   "source": [
    "## Replace missing values with mean"
   ]
  },
  {
   "cell_type": "code",
   "execution_count": null,
   "metadata": {},
   "outputs": [],
   "source": [
    "#replace with mean\n",
    "from sklearn.impute import SimpleImputer\n",
    "my_imputer = SimpleImputer()\n",
    "imputed_X_train = pd.DataFrame(my_imputer.fit_transform(X_train))\n",
    "#put back column names\n",
    "imputed_X_train.columns = X_train.columns\n",
    "\n",
    "#Median, min, max ...\n",
    "for i in names:\n",
    "    X = X.fillna(X[i].median())\n",
    "    #X[i + \"_was_missing\"] = X[i].isnull() (idicating changes)\n",
    "\n",
    "#Perform RandomForestRegressor\n",
    "model = RandomForestRegressor(n_estimators=100, random_state=0)\n",
    "model.fit(X, y)\n",
    "preds = model.predict(X_test)"
   ]
  },
  {
   "cell_type": "code",
   "execution_count": null,
   "metadata": {},
   "outputs": [],
   "source": [
    "#finding object columns for\n",
    "#Label encoding\n",
    "#One-Hot Encoding\n",
    "s = (X_train.dtypes == \"object\")\n",
    "object_columns = list(s[s].index)\n",
    "or \n",
    "object_colsumns = [col for col in X_train.columns if X_train[col].dtype == \"object\"]"
   ]
  },
  {
   "cell_type": "markdown",
   "metadata": {},
   "source": [
    "## Label encoding"
   ]
  },
  {
   "cell_type": "code",
   "execution_count": null,
   "metadata": {},
   "outputs": [],
   "source": [
    "from sklearn.preprocessing import LabelEncoder\n",
    "\n",
    "# Columns that can be safely label encoded\n",
    "good_label_cols = [col for col in object_cols if \n",
    "                   set(X_train[col]) == set(X_valid[col])]\n",
    "        \n",
    "# Problematic columns that will be dropped from the dataset\n",
    "bad_label_cols = list(set(object_cols)-set(good_label_cols))\n",
    "\n",
    "# Drop categorical columns that will not be encoded\n",
    "# Due to different unique values in train and validation set\n",
    "label_X_train = X_train.drop(bad_label_cols, axis=1)\n",
    "label_X_valid = X_valid.drop(bad_label_cols, axis=1)\n",
    "\n",
    "# Apply label encoder \n",
    "label_encoder = LabelEncoder()\n",
    "for col in good_label_cols:\n",
    "    label_X_train[col] = label_encoder.fit_transform(label_X_train[col])\n",
    "    label_X_valid[col] = label_encoder.fit_transform(label_X_valid[col])\n",
    "\n",
    "# Get number of unique entries in each column with categorical data\n",
    "object_nunique = list(map(lambda col: X_train[col].nunique(), object_cols))\n",
    "d = dict(zip(object_cols, object_nunique))\n",
    "\n",
    "# Print number of unique entries by column, in ascending order\n",
    "sorted(d.items(), key=lambda x: x[1])"
   ]
  },
  {
   "cell_type": "markdown",
   "metadata": {},
   "source": [
    "## One-Hot "
   ]
  },
  {
   "cell_type": "code",
   "execution_count": null,
   "metadata": {},
   "outputs": [],
   "source": [
    "#One_Hot for all with less than 10 unique values\n",
    "low_cardinality_cols = [col for col in object_cols if X_train[col].nunique() < 10]\n",
    "high_cardinality_cols = list(set(object_cols)-set(low_cardinality_cols))\n",
    "\n",
    "from sklearn.preprocessing import OneHotEncoder\n",
    "\n",
    "#define OH_encoder\n",
    "OH_encoder = OneHotEncoder(handle_unknown=\"ignore\", sparse = False)\n",
    "\n",
    "# creat Df with One-Hot transformed low_cardinality_cols\n",
    "One_Hot_encoded_list_train = pd.DataFrame(OH_encoder.fit_transform(X_train[low_cardinality_cols]))\n",
    "One_Hot_encoded_list_valid = pd.DataFrame(OH_encoder.transform(X_valid[low_cardinality_cols])) \n",
    "\n",
    "#put index back\n",
    "One_Hot_encoded_list_train.index = X_train.index\n",
    "One_Hot_encoded_list_valid.index = X_valid.index\n",
    "\n",
    "#copy\n",
    "label_X_train = X_train.copy()\n",
    "label_X_valid = X_valid.copy()\n",
    "\n",
    "# creat Df without categorical variables \n",
    "rest_X_train = label_X_train.drop(X_train[object_cols],1)\n",
    "rest_X_valid = label_X_valid.drop(X_valid[object_cols],1)\n",
    "\n",
    "# concat lists\n",
    "OH_X_train = pd.concat([rest_X_train,One_Hot_encoded_list_train],1)\n",
    "OH_X_valid = pd.concat([rest_X_valid,One_Hot_encoded_list_valid],1)\n"
   ]
  },
  {
   "cell_type": "markdown",
   "metadata": {},
   "source": [
    "## Mixing One-Hot  and Label encoding"
   ]
  },
  {
   "cell_type": "code",
   "execution_count": null,
   "metadata": {},
   "outputs": [],
   "source": [
    "from sklearn.preprocessing import OneHotEncoder\n",
    "\n",
    "#define OH_encoder\n",
    "OH_encoder = OneHotEncoder(handle_unknown=\"ignore\", sparse = False)\n",
    "\n",
    "# creat Df with One-Hot transformed low_cardinality_cols\n",
    "One_Hot_encoded_list_train = pd.DataFrame(OH_encoder.fit_transform(X_train[low_cardinality_cols]))\n",
    "One_Hot_encoded_list_valid = pd.DataFrame(OH_encoder.transform(X_valid[low_cardinality_cols])) \n",
    "\n",
    "#put index back\n",
    "One_Hot_encoded_list_train.index = X_train.index\n",
    "One_Hot_encoded_list_valid.index = X_valid.index\n",
    "\n",
    "#copy\n",
    "label_X_train = X_train.copy()\n",
    "label_X_valid = X_valid.copy()\n",
    "\n",
    "from sklearn.preprocessing import LabelEncoder\n",
    "label_encoder = LabelEncoder()\n",
    "#Label encode\n",
    "for col in high_cardinality_cols:\n",
    "    label_X_train[col] = label_encoder.fit_transform(X_train[col])\n",
    "    label_X_valid[col] = label_encoder.transform(X_valid[col])\n",
    "Label_encoded_train = label_X_train[high_cardinality_cols]\n",
    "Label_encoded_valid = label_X_valid[high_cardinality_cols]\n",
    "\n",
    "# creat Df without categorical variables \n",
    "rest_X_train = label_X_train.drop(X_train[object_cols],1)\n",
    "rest_X_valid = label_X_valid.drop(X_valid[object_cols],1)\n",
    "\n",
    "# concat lists\n",
    "OH_X_train = pd.concat([rest_X_train,One_Hot_encoded_list_train,Label_encoded_train],1)\n",
    "OH_X_valid = pd.concat([rest_X_valid,One_Hot_encoded_list_valid,Label_encoded_valid],1)"
   ]
  },
  {
   "cell_type": "markdown",
   "metadata": {},
   "source": [
    "## Submission for Mixed One-Hot & Label-encoding"
   ]
  },
  {
   "cell_type": "code",
   "execution_count": null,
   "metadata": {},
   "outputs": [],
   "source": [
    "from sklearn.preprocessing import OneHotEncoder\n",
    "OH_encoder = OneHotEncoder(handle_unknown=\"ignore\", sparse = False)\n",
    "\n",
    "from sklearn.ensemble import RandomForestRegressor\n",
    "model = RandomForestRegressor(n_estimators=100, random_state=0)\n",
    "\n",
    "from sklearn.preprocessing import LabelEncoder\n",
    "label_encoder = LabelEncoder()\n",
    "\n",
    "#delete NaN in X_test\n",
    "X_test = start_X_test.copy()\n",
    "X = start_X.copy()\n",
    "\n",
    "containing_NaN = [i for i in range(X_test.index[0],X_test.index[-1]) if\n",
    "                 X_test.loc[i].isnull().any()]\n",
    "\n",
    "#upfilling form above\n",
    "for i in containing_NaN:\n",
    "    X_test.loc[i] = X_test.loc[i-1]\n",
    "\n",
    "\n",
    "#set lists according do amount of NaN´s\n",
    "object_cols = [col for col in X.columns if X[col].dtype == \"object\"]\n",
    "low_cardinality_cols = [col for col in object_cols if X[col].nunique() < 10]\n",
    "high_cardinality_cols = list(set(object_cols)-set(low_cardinality_cols))\n",
    "\n",
    "# creat Df with One-Hot transformed low_cardinality_cols\n",
    "One_Hot_encoded_list_train = pd.DataFrame(OH_encoder.fit_transform(X[low_cardinality_cols]))\n",
    "One_Hot_encoded_list_valid = pd.DataFrame(OH_encoder.fit_transform(X_test[low_cardinality_cols])) \n",
    "\n",
    "#put index back\n",
    "One_Hot_encoded_list_train.index = X.index\n",
    "One_Hot_encoded_list_valid.index = X_test.index\n",
    "\n",
    "#Label encode\n",
    "for col in high_cardinality_cols:\n",
    "    X[col] = label_encoder.fit_transform(X[col])\n",
    "    X_test[col] = label_encoder.fit_transform(X_test[col])\n",
    "Label_encoded_train = X[high_cardinality_cols]\n",
    "Label_encoded_valid = X_test[high_cardinality_cols]\n",
    "\n",
    "# create Df without categorical variables \n",
    "rest_X_train = X.drop(X[low_cardinality_cols],1)\n",
    "rest_X_valid = X_test.drop(X_test[low_cardinality_cols],1)\n",
    "\n",
    "# concat lists\n",
    "final_X = pd.concat([rest_X_train,One_Hot_encoded_list_train,Label_encoded_train],1)\n",
    "final_X_test = pd.concat([rest_X_valid,One_Hot_encoded_list_valid,Label_encoded_valid],1)\n",
    "\n",
    "model.fit(final_X, y)\n",
    "preds = model.predict(final_X_test)\n",
    "\n",
    "output = pd.DataFrame({'Id': X_test.index,\n",
    "                       'SalePrice': preds})\n",
    "output.to_csv('submission.csv', index=False)"
   ]
  },
  {
   "cell_type": "markdown",
   "metadata": {},
   "source": [
    "## Pipelines"
   ]
  },
  {
   "cell_type": "code",
   "execution_count": null,
   "metadata": {},
   "outputs": [],
   "source": [
    "#selecting low categorial coumns / dropping high\n",
    "categorical_cols = [cname for cname in X_train_full.columns if\n",
    "                    X_train_full[cname].nunique() < 10 and \n",
    "                    X_train_full[cname].dtype == \"object\"]\n",
    "\n",
    "#Selecting numerical columns\n",
    "numerical_cols = [cname for cname in X_train_full.columns if \n",
    "                X_train_full[cname].dtype in ['int64', 'float64']]\n",
    "\n",
    "#Those were dropped\n",
    "high_ordinal = [i for i in X_train_full.columns\n",
    "                if X_train_full[i].nunique() >= 10 and\n",
    "               X_train_full[i].dtype == \"object\"]\n",
    "\n",
    "print(\"Those rows were dropped: \",high_ordinal)"
   ]
  },
  {
   "cell_type": "code",
   "execution_count": 3,
   "metadata": {},
   "outputs": [
    {
     "ename": "NameError",
     "evalue": "name 'X_train_full' is not defined",
     "output_type": "error",
     "traceback": [
      "\u001b[1;31m---------------------------------------------------------------------------\u001b[0m",
      "\u001b[1;31mNameError\u001b[0m                                 Traceback (most recent call last)",
      "\u001b[1;32m<ipython-input-3-fdba24693d12>\u001b[0m in \u001b[0;36m<module>\u001b[1;34m\u001b[0m\n\u001b[0;32m      7\u001b[0m \u001b[1;32mfrom\u001b[0m \u001b[0msklearn\u001b[0m\u001b[1;33m.\u001b[0m\u001b[0mmetrics\u001b[0m \u001b[1;32mimport\u001b[0m \u001b[0mmean_absolute_error\u001b[0m\u001b[1;33m\u001b[0m\u001b[1;33m\u001b[0m\u001b[0m\n\u001b[0;32m      8\u001b[0m \u001b[1;33m\u001b[0m\u001b[0m\n\u001b[1;32m----> 9\u001b[1;33m categorical_cols = [cname for cname in X_train_full.columns \n\u001b[0m\u001b[0;32m     10\u001b[0m                     \u001b[1;32mif\u001b[0m  \u001b[0mX_train_full\u001b[0m\u001b[1;33m[\u001b[0m\u001b[0mcname\u001b[0m\u001b[1;33m]\u001b[0m\u001b[1;33m.\u001b[0m\u001b[0mnunique\u001b[0m\u001b[1;33m(\u001b[0m\u001b[1;33m)\u001b[0m \u001b[1;33m<\u001b[0m \u001b[1;36m10\u001b[0m \u001b[1;32mand\u001b[0m\u001b[1;33m\u001b[0m\u001b[1;33m\u001b[0m\u001b[0m\n\u001b[0;32m     11\u001b[0m                         X_train_full[cname].dtype == \"object\"]\n",
      "\u001b[1;31mNameError\u001b[0m: name 'X_train_full' is not defined"
     ]
    }
   ],
   "source": [
    "import pandas as pd\n",
    "from sklearn.compose import ColumnTransformer\n",
    "from sklearn.pipeline import Pipeline\n",
    "from sklearn.impute import SimpleImputer\n",
    "from sklearn.preprocessing import OneHotEncoder\n",
    "from sklearn.ensemble import RandomForestRegressor\n",
    "from sklearn.metrics import mean_absolute_error\n",
    "\n",
    "categorical_cols = [cname for cname in X_train_full.columns \n",
    "                    if  X_train_full[cname].nunique() < 10 and \n",
    "                        X_train_full[cname].dtype == \"object\"]\n",
    "\n",
    "# Select numeric columns\n",
    "numerical_cols = [cname for cname in X_train_full.columns \n",
    "                if X_train_full[cname].dtype in ['int64', 'float64']]\n",
    "\n",
    "# Preprocessing for numerical data\n",
    "numerical_transformer = SimpleImputer(strategy='median, mean, constant, most_frequent')\n",
    "\n",
    "# Preprocessing for categorical data\n",
    "categorical_transformer = Pipeline(steps=[\n",
    "    ('imputer', SimpleImputer(strategy='most_frequent')),\n",
    "    ('onehot', OneHotEncoder(handle_unknown='ignore'))\n",
    "])\n",
    "\n",
    "# Bundle preprocessing for numerical and categorical data\n",
    "preprocessor = ColumnTransformer(\n",
    "    transformers=[\n",
    "        ('num', numerical_transformer, numerical_cols),\n",
    "        ('cat', categorical_transformer, categorical_cols)\n",
    "    ])\n",
    "\n",
    "# Define model\n",
    "model = RandomForestRegressor(n_estimators=100, random_state=0)\n",
    "\n",
    "# Bundle preprocessing and modeling code in a pipeline\n",
    "clf = Pipeline(steps=[('preprocessor', preprocessor),\n",
    "                      ('model', model)\n",
    "                     ])\n",
    "\n",
    "# Preprocessing of training data, fit model \n",
    "clf.fit(X_train, y_train)\n",
    "\n",
    "# Preprocessing of validation data, get predictions\n",
    "preds = clf.predict(X_valid)\n",
    "\n",
    "print('MAE:', mean_absolute_error(y_valid, preds))"
   ]
  },
  {
   "cell_type": "markdown",
   "metadata": {},
   "source": [
    "## Cross validation "
   ]
  },
  {
   "cell_type": "code",
   "execution_count": null,
   "metadata": {},
   "outputs": [],
   "source": [
    "from sklearn.model_selection import cross_val_score\n",
    "\n",
    "# Multiply by -1 since sklearn calculates *negative* MAE\n",
    "scores = -1 * cross_val_score(my_pipeline, X, y,\n",
    "                              cv=5,\n",
    "                              scoring='neg_mean_absolute_error')"
   ]
  },
  {
   "cell_type": "markdown",
   "metadata": {},
   "source": [
    "## Optimizer and visualisation"
   ]
  },
  {
   "cell_type": "code",
   "execution_count": null,
   "metadata": {},
   "outputs": [],
   "source": [
    "def get_score(n_estimators):\n",
    "    my_pipeline = Pipeline(\n",
    "        steps=[\n",
    "            ('preprocessor', SimpleImputer()),\n",
    "            ('model', RandomForestRegressor(n_estimators, random_state=0))\n",
    "        ])\n",
    "    scores = -1 * cross_val_score(my_pipeline, X, y,\n",
    "                              cv=3,\n",
    "                              scoring='neg_mean_absolute_error')\n",
    "    return scores.mean()\n",
    "\n",
    "List = {}\n",
    "for i in range(50,401,50):\n",
    "    List.update({i:get_score(i)})\n",
    "    \n",
    "results = List\n",
    "import matplotlib.pyplot as plt\n",
    "%matplotlib inline\n",
    "\n",
    "plt.plot(list(results.keys()), list(results.values()))\n",
    "plt.show()"
   ]
  },
  {
   "cell_type": "markdown",
   "metadata": {},
   "source": [
    "## XGBoost"
   ]
  },
  {
   "cell_type": "code",
   "execution_count": null,
   "metadata": {},
   "outputs": [],
   "source": [
    "from xgboost import XGBRegressor\n",
    "my_model = XGBRegressor(n_estimators=1000, learning_rate=0.05)\n",
    "my_model.fit(X_train, y_train, \n",
    "             early_stopping_rounds=5, \n",
    "             eval_set=[(X_valid, y_valid)], \n",
    "             verbose=False)"
   ]
  },
  {
   "cell_type": "code",
   "execution_count": null,
   "metadata": {},
   "outputs": [],
   "source": []
  }
 ],
 "metadata": {
  "kernelspec": {
   "display_name": "Python 3",
   "language": "python",
   "name": "python3"
  },
  "language_info": {
   "codemirror_mode": {
    "name": "ipython",
    "version": 3
   },
   "file_extension": ".py",
   "mimetype": "text/x-python",
   "name": "python",
   "nbconvert_exporter": "python",
   "pygments_lexer": "ipython3",
   "version": "3.7.6"
  }
 },
 "nbformat": 4,
 "nbformat_minor": 4
}
